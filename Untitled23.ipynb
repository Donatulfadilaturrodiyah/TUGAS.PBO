{
  "nbformat": 4,
  "nbformat_minor": 0,
  "metadata": {
    "colab": {
      "provenance": [],
      "authorship_tag": "ABX9TyMlUjd7zs3EuoiqDGIguO+0",
      "include_colab_link": true
    },
    "kernelspec": {
      "name": "python3",
      "display_name": "Python 3"
    },
    "language_info": {
      "name": "python"
    }
  },
  "cells": [
    {
      "cell_type": "markdown",
      "metadata": {
        "id": "view-in-github",
        "colab_type": "text"
      },
      "source": [
        "<a href=\"https://colab.research.google.com/github/Donatulfadilaturrodiyah/TUGAS.PBO/blob/main/Untitled23.ipynb\" target=\"_parent\"><img src=\"https://colab.research.google.com/assets/colab-badge.svg\" alt=\"Open In Colab\"/></a>"
      ]
    },
    {
      "cell_type": "code",
      "execution_count": 1,
      "metadata": {
        "id": "ipG13vUjk6mV"
      },
      "outputs": [],
      "source": [
        "class Senjata:\n",
        "  def __init__(self, nama, poin):\n",
        "    self.nama = nama\n",
        "    self.poin = poin\n",
        "\n",
        "  def tembak(self):\n",
        "    print(\"Dorr\")"
      ]
    },
    {
      "cell_type": "code",
      "source": [
        "class Player:\n",
        "  def __init__(self, id, nama, skor, nyawa, senjata):\n",
        "    self.id = id\n",
        "    self.nama = nama\n",
        "    self.skor = skor\n",
        "    self.nyawa = nyawa\n",
        "    self.senjata = senjata\n",
        "\n",
        "  def mulai(self):\n",
        "    print(f'Player {self.nama} dengan skor {self.skor}')\n",
        "    print(f'Memiliki senjata {self.senjata.nama} dengan poin {self.senjata.poin}')\n",
        "\n",
        "  def move(self):\n",
        "    print(\"SAVAGE\")\n",
        "\n",
        "  def set_skor(self, skor):\n",
        "    self.skor = self.skor + skor\n",
        "\n",
        "  def get_skor(self):\n",
        "    return self.skor\n",
        ""
      ],
      "metadata": {
        "id": "HOjEP8WOlIhD"
      },
      "execution_count": 2,
      "outputs": []
    },
    {
      "cell_type": "code",
      "source": [
        "player1 = Player(\n",
        "    id = 1,\n",
        "    nama = 'Jojo',\n",
        "    skor = 0,\n",
        "    nyawa = 5,\n",
        "    senjata = Senjata(nama='Pistol', poin = 10))\n",
        "player1.mulai()\n",
        "player1.move()\n",
        "player1.senjata.tembak()\n",
        ""
      ],
      "metadata": {
        "colab": {
          "base_uri": "https://localhost:8080/"
        },
        "id": "legn8nUYlfae",
        "outputId": "00be8da6-aa21-4f67-b8f1-9c328f84fe78"
      },
      "execution_count": 3,
      "outputs": [
        {
          "output_type": "stream",
          "name": "stdout",
          "text": [
            "Player Jojo dengan skor 0\n",
            "Memiliki senjata Pistol dengan poin 10\n",
            "SAVAGE\n",
            "Dorr\n"
          ]
        }
      ]
    }
  ]
}